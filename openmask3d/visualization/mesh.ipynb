{
 "cells": [
  {
   "cell_type": "code",
   "execution_count": 1,
   "metadata": {},
   "outputs": [
    {
     "name": "stdout",
     "output_type": "stream",
     "text": [
      "Jupyter environment detected. Enabling Open3D WebVisualizer.\n",
      "[Open3D INFO] WebRTC GUI backend enabled.\n",
      "[Open3D INFO] WebRTCWindowSystem: HTTP handshake server disabled.\n"
     ]
    }
   ],
   "source": [
    "import open3d as o3d"
   ]
  },
  {
   "cell_type": "code",
   "execution_count": 7,
   "metadata": {},
   "outputs": [
    {
     "data": {
      "text/plain": [
       "True"
      ]
     },
     "execution_count": 7,
     "metadata": {},
     "output_type": "execute_result"
    }
   ],
   "source": [
    "mesh_path = \"/scratch/kumaraditya_gupta/Datasets/openmask3d/RPmz2sHmrrY/gt.ply\"\n",
    "mesh = o3d.io.read_triangle_mesh(mesh_path)\n",
    "\n",
    "colors_pcd_path = \"/scratch/kumaraditya_gupta/Datasets/openmask3d/RPmz2sHmrrY/output/2024-03-12-15-59-17-experiment/scene_pcd_w_sim_colors_dining_room.ply\"\n",
    "colors_pcd = o3d.io.read_point_cloud(colors_pcd_path)\n",
    "\n",
    "#both the mesh and the pcd are in the same coordinate system, so we can just add the colors to the mesh\n",
    "mesh.vertex_colors = colors_pcd.colors\n",
    "\n",
    "save_path = \"/scratch/kumaraditya_gupta/Datasets/openmask3d/RPmz2sHmrrY/output/2024-03-12-15-59-17-experiment/scene_mesh_w_sim_colors_dining_room.ply\"\n",
    "o3d.io.write_triangle_mesh(save_path, mesh)"
   ]
  }
 ],
 "metadata": {
  "kernelspec": {
   "display_name": "openmask3d",
   "language": "python",
   "name": "python3"
  },
  "language_info": {
   "codemirror_mode": {
    "name": "ipython",
    "version": 3
   },
   "file_extension": ".py",
   "mimetype": "text/x-python",
   "name": "python",
   "nbconvert_exporter": "python",
   "pygments_lexer": "ipython3",
   "version": "3.8.18"
  }
 },
 "nbformat": 4,
 "nbformat_minor": 2
}
